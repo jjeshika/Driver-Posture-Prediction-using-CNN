{
 "cells": [
  {
   "cell_type": "code",
   "execution_count": 5,
   "id": "0998d63f",
   "metadata": {},
   "outputs": [
    {
     "name": "stdout",
     "output_type": "stream",
     "text": [
      "Found 1 images belonging to 1 classes.\n",
      "Found 1 images belonging to 1 classes.\n",
      "Found 1 images belonging to 1 classes.\n",
      "Found 1 images belonging to 1 classes.\n",
      "Found 1 images belonging to 1 classes.\n",
      "Found 1 images belonging to 1 classes.\n"
     ]
    }
   ],
   "source": [
    "from tkinter import *\n",
    "from PIL import Image,ImageTk\n",
    "from tkinter.filedialog import askopenfile, askopenfilename, asksaveasfile\n",
    "import os\n",
    "import shutil\n",
    "from tensorflow import keras\n",
    "from keras.preprocessing.image import ImageDataGenerator\n",
    "import numpy as np\n",
    "import winsound\n",
    "import pyglet\n",
    "\n",
    "test_datagen = ImageDataGenerator(rescale=1./255)\n",
    "global test_img_path\n",
    "\n",
    "#player = pyglet.media.Player()\n",
    "#mus = pyglet.media.load('sample.mp3')\n",
    "#player.queue(mus)\n",
    "\n",
    "\n",
    "model = keras.models.load_model('vgg_model2.h5')\n",
    "\n",
    "class_def = {0: 'safe driving',\n",
    "             1: 'texting - right',\n",
    "             2: 'talking on the phone - right',\n",
    "             3: 'texting - left',\n",
    "             4: 'talking on the phone - left',\n",
    "             5: 'operating the radio',\n",
    "             6: 'drinking',\n",
    "             7: 'reaching behind',\n",
    "             8: 'hair and makeup',\n",
    "             9: 'talking to passenger'}\n",
    "\n",
    "def upload_file():\n",
    "    global test_img_path\n",
    "    test_img_path = askopenfilename(filetypes=[('Image Files', '*.jpg')])\n",
    "    #print(test_img_path)\n",
    "    #print(type(test_img_path))\n",
    "    img = Image.open(test_img_path)\n",
    "    img.thumbnail((420,550))\n",
    "    img = ImageTk.PhotoImage(img)\n",
    "    im_label.configure(image=img)\n",
    "    im_label.image = img\n",
    "    shr.configure(state=NORMAL)\n",
    "\n",
    "\n",
    "def showresult():\n",
    "    dest_path = \"C:/Users/DELL/Desktop/mini project/test_image\"\n",
    "    for f in os.listdir(dest_path):\n",
    "        os.remove(os.path.join(dest_path, f))\n",
    "\n",
    "    global test_img_path\n",
    "    src_dir = test_img_path\n",
    "    shutil.copy(src_dir, dest_path)\n",
    "\n",
    "    image_size = (220, 220)\n",
    "    test_path = \"../mini project/\"\n",
    "    test_generator = test_datagen.flow_from_directory( directory=test_path, \n",
    "                                                  target_size=image_size, \n",
    "                                                  color_mode=\"rgb\", \n",
    "                                                  batch_size=1, \n",
    "                                                  class_mode='categorical', \n",
    "                                                  shuffle=False, \n",
    "                                                  classes=['test_image'] )\n",
    "\n",
    "    pred = model.predict(test_generator)\n",
    "    predicted_class = np.argmax(pred,axis=1)\n",
    "    #t = predicted_class[0]\n",
    "    #print(t)\n",
    "    result = class_def[predicted_class[0]]\n",
    "    #print(class_def[0])\n",
    "\n",
    "    re_label.configure(text=result)\n",
    "    if predicted_class != 0:\n",
    "        #winsound.Beep(1000,1000)\n",
    "        mus = pyglet.media.load('sample.mp3')\n",
    "        mus.play()\n",
    "    \n",
    "\n",
    "root = Tk()\n",
    "root.geometry(\"450x450+540+110\")\n",
    "root.maxsize(450,450)\n",
    "root.minsize(450,450)\n",
    "root.title(\"Driver Prediction\")\n",
    "root.configure(background=\"#e3edf6\")\n",
    "root.configure(highlightbackground=\"#3777ac\")\n",
    "root.configure(highlightcolor=\"black\")\n",
    "\n",
    "frm = Frame(root,background=\"#e3edf6\")\n",
    "frm.pack(side=BOTTOM,padx=15,pady=15)\n",
    "\n",
    "im_label = Label(root)\n",
    "im_label.pack(pady=15)\n",
    "\n",
    "re_label = Label(frm,text=\"\",font=20)\n",
    "re_label.configure(background=\"#e3edf6\")\n",
    "re_label.pack(padx=8,pady=15)\n",
    "\n",
    "uplo = Button(frm,text=\"Upload image\",command=upload_file)\n",
    "uplo.pack(padx=8,pady=8)\n",
    "\n",
    "shr = Button(frm,text=\"Show Result\",command=showresult,state=DISABLED)\n",
    "shr.pack(padx=8,pady=8)\n",
    "\n",
    "root.mainloop()"
   ]
  },
  {
   "cell_type": "code",
   "execution_count": 16,
   "id": "7f707e95",
   "metadata": {},
   "outputs": [
    {
     "name": "stderr",
     "output_type": "stream",
     "text": [
      "Exception ignored in: <function Wave_write.__del__ at 0x000001736A841160>\n",
      "Traceback (most recent call last):\n",
      "  File \"C:\\Users\\DELL\\anaconda3\\lib\\wave.py\", line 327, in __del__\n",
      "    self.close()\n",
      "  File \"C:\\Users\\DELL\\anaconda3\\lib\\wave.py\", line 445, in close\n",
      "    self._ensure_header_written(0)\n",
      "  File \"C:\\Users\\DELL\\anaconda3\\lib\\wave.py\", line 463, in _ensure_header_written\n",
      "    raise Error('# channels not specified')\n",
      "wave.Error: # channels not specified\n"
     ]
    },
    {
     "data": {
      "text/plain": [
       "0"
      ]
     },
     "execution_count": 16,
     "metadata": {},
     "output_type": "execute_result"
    }
   ],
   "source": [
    "from gtts import gTTS \n",
    "import os\n",
    "\n",
    "text = \"drive safely\"\n",
    "\n",
    "langauge = 'en'\n",
    "\n",
    "obj = gTTS(text=text,lang=langauge,slow=False)\n",
    "\n",
    "obj.save(\"sample.mp3\")\n",
    "\n",
    "#os.system(\"sample.mp3\")"
   ]
  }
 ],
 "metadata": {
  "kernelspec": {
   "display_name": "Python 3",
   "language": "python",
   "name": "python3"
  },
  "language_info": {
   "codemirror_mode": {
    "name": "ipython",
    "version": 3
   },
   "file_extension": ".py",
   "mimetype": "text/x-python",
   "name": "python",
   "nbconvert_exporter": "python",
   "pygments_lexer": "ipython3",
   "version": "3.8.8"
  }
 },
 "nbformat": 4,
 "nbformat_minor": 5
}
